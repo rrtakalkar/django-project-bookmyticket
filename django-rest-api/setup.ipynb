{
 "cells": [
  {
   "cell_type": "code",
   "execution_count": 1,
   "id": "278f787e-fe24-443f-b300-cfc7d5c791bc",
   "metadata": {},
   "outputs": [
    {
     "name": "stdout",
     "output_type": "stream",
     "text": [
      "Requirement already satisfied: django in c:\\users\\rutuj\\anaconda3\\envs\\bookmyticket\\lib\\site-packages (4.1.5)\n",
      "Requirement already satisfied: tzdata in c:\\users\\rutuj\\anaconda3\\envs\\bookmyticket\\lib\\site-packages (from django) (2022.7)\n",
      "Requirement already satisfied: asgiref<4,>=3.5.2 in c:\\users\\rutuj\\anaconda3\\envs\\bookmyticket\\lib\\site-packages (from django) (3.6.0)\n",
      "Requirement already satisfied: sqlparse>=0.2.2 in c:\\users\\rutuj\\anaconda3\\envs\\bookmyticket\\lib\\site-packages (from django) (0.4.3)\n"
     ]
    }
   ],
   "source": [
    "!pip install django"
   ]
  },
  {
   "cell_type": "code",
   "execution_count": 3,
   "id": "7698be29-2cd8-436c-9769-31568c6d846f",
   "metadata": {},
   "outputs": [
    {
     "name": "stdout",
     "output_type": "stream",
     "text": [
      "Requirement already satisfied: djangorestframework in c:\\users\\rutuj\\anaconda3\\envs\\bookmyticket\\lib\\site-packages (3.14.0)\n",
      "Requirement already satisfied: pytz in c:\\users\\rutuj\\anaconda3\\envs\\bookmyticket\\lib\\site-packages (from djangorestframework) (2022.7)\n",
      "Requirement already satisfied: django>=3.0 in c:\\users\\rutuj\\anaconda3\\envs\\bookmyticket\\lib\\site-packages (from djangorestframework) (4.1.5)\n",
      "Requirement already satisfied: asgiref<4,>=3.5.2 in c:\\users\\rutuj\\anaconda3\\envs\\bookmyticket\\lib\\site-packages (from django>=3.0->djangorestframework) (3.6.0)\n",
      "Requirement already satisfied: sqlparse>=0.2.2 in c:\\users\\rutuj\\anaconda3\\envs\\bookmyticket\\lib\\site-packages (from django>=3.0->djangorestframework) (0.4.3)\n",
      "Requirement already satisfied: tzdata in c:\\users\\rutuj\\anaconda3\\envs\\bookmyticket\\lib\\site-packages (from django>=3.0->djangorestframework) (2022.7)\n"
     ]
    }
   ],
   "source": [
    "!pip install djangorestframework"
   ]
  },
  {
   "cell_type": "code",
   "execution_count": 4,
   "id": "35cdd2c3-198d-4b7f-921b-0b6438d07520",
   "metadata": {},
   "outputs": [
    {
     "name": "stdout",
     "output_type": "stream",
     "text": [
      "Requirement already satisfied: markdown in c:\\users\\rutuj\\anaconda3\\envs\\bookmyticket\\lib\\site-packages (3.4.1)\n"
     ]
    }
   ],
   "source": [
    "!pip install markdown"
   ]
  },
  {
   "cell_type": "code",
   "execution_count": 5,
   "id": "e23b9b5b-cf2a-490f-bf11-2a5643e38902",
   "metadata": {},
   "outputs": [
    {
     "name": "stdout",
     "output_type": "stream",
     "text": [
      "Requirement already satisfied: django-filter in c:\\users\\rutuj\\anaconda3\\envs\\bookmyticket\\lib\\site-packages (22.1)\n",
      "Requirement already satisfied: Django>=3.2 in c:\\users\\rutuj\\anaconda3\\envs\\bookmyticket\\lib\\site-packages (from django-filter) (4.1.5)\n",
      "Requirement already satisfied: sqlparse>=0.2.2 in c:\\users\\rutuj\\anaconda3\\envs\\bookmyticket\\lib\\site-packages (from Django>=3.2->django-filter) (0.4.3)\n",
      "Requirement already satisfied: tzdata in c:\\users\\rutuj\\anaconda3\\envs\\bookmyticket\\lib\\site-packages (from Django>=3.2->django-filter) (2022.7)\n",
      "Requirement already satisfied: asgiref<4,>=3.5.2 in c:\\users\\rutuj\\anaconda3\\envs\\bookmyticket\\lib\\site-packages (from Django>=3.2->django-filter) (3.6.0)\n"
     ]
    }
   ],
   "source": [
    "!pip install django-filter"
   ]
  },
  {
   "cell_type": "code",
   "execution_count": 6,
   "id": "e1f197e1-1328-4836-941d-23154183788f",
   "metadata": {},
   "outputs": [],
   "source": [
    "#django-admin startproject bookmyticket ."
   ]
  },
  {
   "cell_type": "code",
   "execution_count": 7,
   "id": "2d796686-a760-45f5-8d7d-765a687ea11d",
   "metadata": {},
   "outputs": [],
   "source": [
    "#cd bookmyticket"
   ]
  },
  {
   "cell_type": "code",
   "execution_count": 8,
   "id": "2509fd8c-672a-42a5-a4d6-bea67626f7d8",
   "metadata": {},
   "outputs": [],
   "source": [
    "#django-admin startapp bookmyticketapi"
   ]
  },
  {
   "cell_type": "code",
   "execution_count": 9,
   "id": "1978d96c-47a6-4a87-b8da-18e0909e52cb",
   "metadata": {},
   "outputs": [],
   "source": [
    "#cd .."
   ]
  },
  {
   "cell_type": "code",
   "execution_count": 10,
   "id": "959269c2-5e9b-4cde-894c-f5327aa76694",
   "metadata": {},
   "outputs": [],
   "source": [
    "#python manage.py migrate"
   ]
  },
  {
   "cell_type": "code",
   "execution_count": 11,
   "id": "ac70d9c9-9442-4b87-b41f-c175230a60d0",
   "metadata": {},
   "outputs": [],
   "source": [
    "#python manage.py createsuperuser --email admin@bookmyticket.com --username admin"
   ]
  },
  {
   "cell_type": "code",
   "execution_count": 12,
   "id": "15433dd7-f796-4bcb-a349-d81db10555dd",
   "metadata": {},
   "outputs": [],
   "source": [
    "# Password: password123"
   ]
  },
  {
   "cell_type": "code",
   "execution_count": null,
   "id": "60d694d0-7274-44c8-b7d6-67692543022f",
   "metadata": {},
   "outputs": [],
   "source": [
    "python .\\manage.py drf_create_token admin\n",
    "Generated token 3e42df3a32afd3c0b8161a69275ee20b04eaa5c2 for user admin"
   ]
  }
 ],
 "metadata": {
  "kernelspec": {
   "display_name": "bookmyticket",
   "language": "python",
   "name": "python3"
  },
  "language_info": {
   "codemirror_mode": {
    "name": "ipython",
    "version": 3
   },
   "file_extension": ".py",
   "mimetype": "text/x-python",
   "name": "python",
   "nbconvert_exporter": "python",
   "pygments_lexer": "ipython3",
   "version": "3.10.8 | packaged by conda-forge | (main, Nov 24 2022, 14:07:00) [MSC v.1916 64 bit (AMD64)]"
  },
  "vscode": {
   "interpreter": {
    "hash": "bdf00c46e5c535ce31ca1f4495764eafb6b363d4f2196b1060870d887575509b"
   }
  }
 },
 "nbformat": 4,
 "nbformat_minor": 5
}
